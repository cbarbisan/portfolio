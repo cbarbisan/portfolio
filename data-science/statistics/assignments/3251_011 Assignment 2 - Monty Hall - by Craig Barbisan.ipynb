{
 "cells": [
  {
   "cell_type": "markdown",
   "metadata": {},
   "source": [
    "## Assignment #2 - Monty Hall\n",
    "\n",
    "<b>Problem description:</b><br/>\n",
    "Suppose you're on a game show and you're given the choice of three doors. Behind one door is a car; behind the others, goats. The car and the goats were placed randomly behind the doors before the show. The rules are: After you have chosen a door, the door remains closed for the time being. The game show host, Monty Hall, who knows what is behind the doors, now has to open one of the two remaining doors, and the door he opens must have a goat behind it. If both remaining doors have goats behind them, he chooses one randomly. After Monty opens a door with a goat, he will ask you to decide whether you want to stay with your first choice or to switch to the last remaining door. Imagine that you chose Door 1 and the host opens Door 3, which has a goat. He then asks you \"Do you want to switch to Door Number 2?\" Is it to your advantage to change your choice? Note that the player may initially choose any of the three doors (not just Door 1), that the host opens a different door revealing a goat (not necessarily Door 3), and that he gives the player a second choice between the two remaining unopened doors.\n",
    "\n",
    "Write Python code to solve the Monty Hall problem. Simulate at least a thousand games using three doors for each strategy and show the results in such a way as to make it easy to compare the effects of each strategy."
   ]
  },
  {
   "cell_type": "code",
   "execution_count": 1,
   "metadata": {
    "collapsed": true
   },
   "outputs": [],
   "source": [
    "import numpy as np\n",
    "from numpy.random import permutation"
   ]
  },
  {
   "cell_type": "markdown",
   "metadata": {},
   "source": [
    "Despite there being 3 doors, there's really only 2 options being considered:\n",
    "<ol>\n",
    "    <li>Keeping the first door that you selected</li>\n",
    "    <li>Changing your mind and selecting the remaining door (Monty opened the third door, which revealed a goat)</li>\n",
    "</ol>\n",
    "\n",
    "Thus, to determine the best strategy, we need to calculate and compare 2 probabilities:\n",
    "\n",
    "<ol>\n",
    "    <li>The probability of the car being behind the first door selected.\n",
    "    <li>The probability of the car not being behind the first door selected, which implies it would be found if you switched doors.\n",
    "</ol>\n",
    "\n",
    "Our potential outcomes are mutually exclusive. Either the car is behind the door that is selected, or it is behind the door that Monty did not open. They are also complementary, which means P(2) = 1 - P(1). So if we determine the probability of the first outcome, it will be a straight-forward exercise to calculate the probability of the second outcome.\n",
    "\n",
    "Intuitively, the probability of the car being behind the first door selected, should be 1/3. Thus the probability of the car being behind the other door should be 1 - 1/3 = 2/3. We will run a simulation which uses the law of large numbers to prove our intuition is correct:"
   ]
  },
  {
   "cell_type": "code",
   "execution_count": 2,
   "metadata": {},
   "outputs": [],
   "source": [
    "simulations = 1000\n",
    "found = 0\n",
    "\n",
    "for n in np.arange(simulations):\n",
    "    \n",
    "    # doors will be an array that holds a random permutation of the car and goats\n",
    "    doors = permutation(['Car','Goat','Goat'])\n",
    "    selection = np.random.randint(0,3)\n",
    "    \n",
    "    if doors[selection] == 'Car':\n",
    "        found += 1\n",
    "        \n",
    "# At this point, the found counter tells us how many times we found a car behind the first door we picked.\n",
    "# Calculate the proportion of times the car was found behind the first selected door\n",
    "p1 = found/simulations\n",
    "\n",
    "# Calculate the proportion of times the car was not behind the first selected door\n",
    "p2 = 1 - p1"
   ]
  },
  {
   "cell_type": "code",
   "execution_count": 3,
   "metadata": {},
   "outputs": [
    {
     "name": "stdout",
     "output_type": "stream",
     "text": [
      "The probability of the car being behind the first door selected is 0.34\n",
      "The probability of the car being behind the door Monty didn't open is 0.66\n"
     ]
    }
   ],
   "source": [
    "print('The probability of the car being behind the first door selected is{: 3.2f}'.format(p1))\n",
    "print('The probability of the car being behind the door Monty didn\\'t open is{: 3.2f}'.format(p2))"
   ]
  },
  {
   "cell_type": "markdown",
   "metadata": {},
   "source": [
    "Comparing the 2 probabilities tells us that we are much more likely to win the car if we switch doors, than if we stick with the first door we selected. These numbers also confirm our initial assumption that P(1) = 1/3 and P(2) = 2/3."
   ]
  }
 ],
 "metadata": {
  "kernelspec": {
   "display_name": "Python 3",
   "language": "python",
   "name": "python3"
  },
  "language_info": {
   "codemirror_mode": {
    "name": "ipython",
    "version": 3
   },
   "file_extension": ".py",
   "mimetype": "text/x-python",
   "name": "python",
   "nbconvert_exporter": "python",
   "pygments_lexer": "ipython3",
   "version": "3.7.0"
  }
 },
 "nbformat": 4,
 "nbformat_minor": 2
}
