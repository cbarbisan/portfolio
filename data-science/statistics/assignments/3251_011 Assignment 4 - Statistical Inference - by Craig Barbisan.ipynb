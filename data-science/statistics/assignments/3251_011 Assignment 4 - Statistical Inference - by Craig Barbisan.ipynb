{
 "cells": [
  {
   "cell_type": "markdown",
   "metadata": {},
   "source": [
    "# Assignment 4\n",
    "\n",
    "## Statistical Inference\n",
    "\n",
    "1.Past experience indicates that because of low morale  a company losses 20 hours a year per employee due to lateness and absenteeism.  Assume that the standard deviation of the population is 6 and normally distributed.  The HR department implemented a new rewards system to increase employee morale and after a few months it collected a random sample of 20 employees and the annualized absenteeism was 16.3.\n",
    "\n",
    "a.Could you confirm that the new rewards system was effective with a 90% confidence\n",
    "\n",
    "b.An HR subject matter expert would be very happy if the program could reduce absenteeism by 20%, i.e. to 16 hours.  Given the current sampling parameters, what is the probability that the new rewards system reduced absenteeism to 16 hours and you miss it (fail to reject the null)?\n",
    "\n",
    "c.Repeat part a) and b) with an α = 95% CI.\n",
    "\n",
    "d.Based on the answers in c), is the sampling method good enough to discriminate a reduction from 20 to 16 hours if I use a confidence of 95%?\n",
    "\n",
    "e.What should be the sample size if you want β to be 5%, i.e. power of the test 95.\n",
    "\n",
    "Note:  this problem is very similar to Problem 11.1 seen in class.  However watch out for the direction of the tails.  CDF start from zero in most software's, you may need to take the complement (1-cdf%)  of the cdf depending on how you frame the problem in your equations and or code."
   ]
  },
  {
   "cell_type": "markdown",
   "metadata": {},
   "source": [
    "<b>a.Could you confirm that the new rewards system was effective with a 90% confidence?</b><br/>\n",
    "<br/>\n",
    "Our population is all of the employees in the company. Our population parameter is the mean number of hours per employee lost each year due to absenteeism (annualized absenteeism). We were given that the standard deviation for the entire population is 6 hours and we can assume normal distribution.<br/>\n",
    "<br/>\n",
    "$\\mu=20$<br/>\n",
    "$\\sigma=6$<br/>\n",
    "<br/>\n",
    "For the rewards system to be considered effective, we would expect $\\mu$ to be lower once the rewards system was in place. Thus our two competing hypotheses are:<br/>\n",
    "<br/>\n",
    "$H_{0}: \\mu=20$<br/>\n",
    "$H_{A}: \\mu<20$<br/>\n",
    "<br/>\n",
    "Once the rewards system was in-place, a random sample of 20 employees was collected and annualized absenteeism was 16.3<br/>\n",
    "<br/>\n",
    "$n = 20$<br/>\n",
    "$\\bar{x}$ = 16.3<br/>\n",
    "<br/>\n",
    "We have to consider the uncertainty associated with our point estimate, the sample mean ($\\bar{x}$). We can use the central limit theorem and the normal distribution because the standard deviation of the population is known. Since we have been given the standard deviation for the population, calculating standard error<br/>(SE$_{\\bar{x}}$) for the sample mean is simple:<br/>\n",
    "<br/>\n",
    "$SE_{\\bar{x}} = \\frac{\\sigma}{\\sqrt{n}}$<br/>\n",
    "$= \\frac{6}{\\sqrt{20}}$<br/>\n",
    "$= 1.34$<br/>\n",
    "<br/>\n",
    "To determine the confidence interval for any confidence level:<br/>\n",
    "<br/>\n",
    "$ \\bar{x} \\pm z^*SE_{\\bar{x}}$, where $z^*$ corresponds to the confidence level selected.<br/>\n",
    "For a 90% confidence interval, $z^*$ = 1.28<br/>\n",
    "<br/>\n",
    "($16.3 - 1.28 \\times 1.34, 16.3 + 1.28 \\times 1.34)$<br/>\n",
    "$=(14.58,18.02)$<br/>\n",
    "<br/>\n",
    "We are 90% confident that the average number of hours an employee was absent once the rewards system was put in-place is between 14.58 hours and 18.02 hours. This is obviously lower than annualized absenteeism prior to the rewards system ($\\mu=20$), so we can say with 90% confidence that the null hypothesis is implausible and can be rejected, thus the rewards system was effective."
   ]
  },
  {
   "cell_type": "markdown",
   "metadata": {},
   "source": [
    "<b>b. An HR subject matter expert would be very happy if the program could reduce absenteeism by 20%, i.e. to 16 hours. Given the current sampling parameters, what is the probability that the new rewards system reduced absenteeism to 16 hours and you miss it (fail to reject the null)?</b><br/>\n",
    "<br/>\n",
    "We already know that our population mean is 20 with a standard deviation of 6. As stated, we are assuming that our sample mean is 16 hours and our sample size is 20. If our confidence level ($\\alpha$) is 90%, that means our significance level is 0.1:<br/>\n",
    "<br/>\n",
    "$\\mu=20$ (this is our null value)<br/>\n",
    "$\\sigma=6$<br/>\n",
    "<br/>\n",
    "$n=20$<br/>\n",
    "$\\bar{x}=16$<br/>\n",
    "<br/>\n",
    "$\\alpha=0.1$<br/>\n",
    "<br/>\n",
    "$SE_{\\bar{x}} = \\frac{\\sigma}{\\sqrt{n}} = \\frac{6}{\\sqrt{20}} = 1.34$<br/>\n",
    "<br/>\n",
    "We want to consider the data under the scenario that the null hypothesis is true. Let's look at our sample distribution:<br/>"
   ]
  },
  {
   "cell_type": "code",
   "execution_count": 1,
   "metadata": {
    "collapsed": true
   },
   "outputs": [],
   "source": [
    "import numpy as np\n",
    "import scipy.stats as st\n",
    "import matplotlib.pyplot as plt"
   ]
  },
  {
   "cell_type": "code",
   "execution_count": 2,
   "metadata": {},
   "outputs": [
    {
     "data": {
      "image/png": "[encoded data removed]",
      "text/plain": [
       "<matplotlib.figure.Figure at 0x1c4487fc240>"
      ]
     },
     "metadata": {},
     "output_type": "display_data"
    }
   ],
   "source": [
    "mean = 20\n",
    "stdev = 1.34\n",
    "xbar = 16\n",
    "x = np.linspace(mean - 3*stdev, mean + 3*stdev, 50)\n",
    "plt.plot(x,st.norm.pdf(x, mean, stdev))\n",
    "plt.xlabel('Absenteeism (in hours)')\n",
    "plt.title('Annualized Absenteeism')\n",
    "plt.axvline(xbar, color='k', linestyle='dashed', linewidth=0.5)\n",
    "fill_area = x[np.where(x<xbar)]\n",
    "plt.fill_between(fill_area,st.norm.pdf(fill_area, mean, stdev),0)\n",
    "plt.show()"
   ]
  },
  {
   "cell_type": "markdown",
   "metadata": {},
   "source": [
    "The p-value is the left-tail area of the above normal distribution, which appears to be very small. To calculate the area underneath the curve, we first need to calculate the z-score of the sample mean:<br/>\n",
    "<br/>\n",
    "$Z = \\frac{\\bar{x} - null value}{SE_{\\bar{x}}} = \\frac{16 - 20}{1.34} = -2.99$<br/>\n",
    "<br/>\n",
    "Using the normal probability table, we learn that the area underneath the curve is .0014, thus p = .0014<br/>\n",
    "<br/>\n",
    "We evaluate the hypotheses by comparing the p-value (0.0014) to the significance level (0.1). The p-value is a lot lower, so we can reject the null hypothesis. The p-value tells us that the probability of failing to reject the null hypothesis when the new rewards system reduces absenteeism to 16 hours is 0.0014."
   ]
  },
  {
   "cell_type": "markdown",
   "metadata": {},
   "source": [
    "<b>c. Repeat part a) and b) with an α = 95% CI.</b><br/>\n",
    "<br/>\n",
    "To determine the confidence interval for any confidence level:<br/>\n",
    "<br/>\n",
    "$ \\bar{x} \\pm z^*SE_{\\bar{x}}$, where $z^*$ corresponds to the confidence level selected.<br/>\n",
    "Assuming the parameter and sampling values from question 1a., and a 95% confidence interval, $z^*$ = 1.96<br/>\n",
    "<br/>\n",
    "($16.3 - 1.96 \\times 1.34, 16.3 + 1.96 \\times 1.34)$<br/>\n",
    "$=(13.67,18.93)$<br/>\n",
    "<br/>\n",
    "For a 95% confidence interval, the significance level is 0.05: $\\alpha = 0.05$<br/>\n",
    "<br/>\n",
    "From question 1b. we know that the p-score is .0014, which is still much smaller than our significance level of 0.05, so we can now be 95% confident in our rejection of the null hypothesis."
   ]
  },
  {
   "cell_type": "markdown",
   "metadata": {},
   "source": [
    "<b>d. Based on the answers in c), is the sampling method good enough to discriminate a reduction from 20 to 16 hours if I use a confidence of 95%?</b><br/>\n",
    "<br/>\n",
    "Yes, because 16 falls within our 95% confidence interval and our p-value is much smaller than our significance level, which favours the alternate hypothesis (the rewards system improved absenteeism) over the null hypothesis (the rewards system did not impact absenteeism)."
   ]
  },
  {
   "cell_type": "markdown",
   "metadata": {},
   "source": [
    "<b>e. What should be the sample size if you want β to be 5%, i.e. power of the test 95.</b><br/>\n",
    "<br/>\n",
    "So we are determining how large a sample we need to be 95% certain we are correctly rejecting $H_0$.<br/>\n",
    "<br/>\n",
    "We start by identifying the Z-score that would give us a lower-tail of 95%: it would be about 1.64.<br/>\n",
    "<br/>\n",
    "Additionally, the rejection region always extends 1.96 x SE from the center of the null distribution for $\\alpha = 0.05$. This allows us to calculate the target distance between the center of the null and alternative distributions in terms of the standard error. The distributions are centred around their mean:<br/>\n",
    "<br/>\n",
    "1.64 x SE + 1.96 x SE = 3.6 x SE<br/>\n",
    "(20-16) = 3.6 $\\times$ SE<br/>\n",
    "4 = 3.6 $\\times \\sqrt{\\frac{6^2}{n} + \\frac{6^2}{n}}$<br/>\n",
    "n = $\\frac{3.6^2}{4^2} \\times (6^2 + 6^2)$<br/>\n",
    "n = 58.32<br/>\n",
    "<br/>\n",
    "Thus the sample size should be 59 if you want $\\beta$ to be 5%."
   ]
  },
  {
   "cell_type": "markdown",
   "metadata": {
    "collapsed": true
   },
   "source": [
    "## Chi-Square Goodnees of fit:\n",
    "\n",
    "Write python code for textbook section 6.3.5:\n",
    "<ul>\n",
    "<li>Calculate the expected values based on the geometric distribution with a probability of 53.2%</li>\n",
    "<li>Compare the expected vs. the observed values from the textbook using the Chi-Square distribution</li>\n",
    "<li>Reach a conclusion</li>\n",
    "<li>Explain what is the business impact of your conclusion</li>\n",
    "</ul>\n",
    "\n",
    "(the steps are given in the textbook, however it is a very conceptual exercise that can be used with any known distribution)<br/>\n",
    "<br/>\n",
    "To find each expected count, we identify the probability of of waiting D days, based on the geometric model\n",
    "$P(D) = (1 - 0.532)^{D-1}(0.532)$ and multiply by the total number of streaks, 2948.<br/>\n",
    "<br/>"
   ]
  },
  {
   "cell_type": "code",
   "execution_count": 3,
   "metadata": {},
   "outputs": [
    {
     "data": {
      "text/plain": [
       "array([1568,  734,  344,  161,   75,   35,   16])"
      ]
     },
     "execution_count": 3,
     "metadata": {},
     "output_type": "execute_result"
    }
   ],
   "source": [
    "def P(D):\n",
    "    return ((1-0.532)**(D - 1))*0.532\n",
    "\n",
    "observed = np.array([1532, 760, 338, 194, 74, 33, 17])\n",
    "probs = P(np.array([1, 2, 3, 4, 5, 6, 7]))\n",
    "expected = np.round(probs * 2948.0).astype(int)\n",
    "expected"
   ]
  },
  {
   "cell_type": "code",
   "execution_count": 4,
   "metadata": {},
   "outputs": [
    {
     "data": {
      "text/plain": [
       "array([1568,  734,  344,  161,   75,   35,   31])"
      ]
     },
     "execution_count": 4,
     "metadata": {},
     "output_type": "execute_result"
    }
   ],
   "source": [
    "# The last element should represent the case where D >= 7, not just D=7, so we need to adjust its value\n",
    "expected[6] = 2948 - np.sum(expected[:6])\n",
    "expected"
   ]
  },
  {
   "cell_type": "code",
   "execution_count": 5,
   "metadata": {},
   "outputs": [
    {
     "data": {
      "text/plain": [
       "2948"
      ]
     },
     "execution_count": 5,
     "metadata": {},
     "output_type": "execute_result"
    }
   ],
   "source": [
    "# Validate that we have exactly 2948 values accounted for in our expected values\n",
    "expected.sum()"
   ]
  },
  {
   "cell_type": "code",
   "execution_count": 6,
   "metadata": {},
   "outputs": [
    {
     "data": {
      "text/plain": [
       "array([1568,  734,  344,  161,   75,   35,   31])"
      ]
     },
     "execution_count": 6,
     "metadata": {},
     "output_type": "execute_result"
    }
   ],
   "source": [
    "# The expected values based on the geometric distribution with a probability of 53.2% are:\n",
    "expected"
   ]
  },
  {
   "cell_type": "code",
   "execution_count": 7,
   "metadata": {},
   "outputs": [],
   "source": [
    "chisq, p = st.chisquare(observed, expected)"
   ]
  },
  {
   "cell_type": "code",
   "execution_count": 8,
   "metadata": {},
   "outputs": [
    {
     "data": {
      "text/plain": [
       "15.066337549525954"
      ]
     },
     "execution_count": 8,
     "metadata": {},
     "output_type": "execute_result"
    }
   ],
   "source": [
    "chisq"
   ]
  },
  {
   "cell_type": "code",
   "execution_count": 9,
   "metadata": {},
   "outputs": [
    {
     "data": {
      "text/plain": [
       "0.019746985983350823"
      ]
     },
     "execution_count": 9,
     "metadata": {},
     "output_type": "execute_result"
    }
   ],
   "source": [
    "p"
   ]
  },
  {
   "cell_type": "markdown",
   "metadata": {},
   "source": [
    "The chi-squared test statistic, $\\chi^2=15.07$ and the p-value = 0.0197, which is sufficient evidence to reject the null hypothesis that the stock market being up or down on a specific day is independent from all other days.<br/>\n",
    "<br/>\n",
    "The business impact of this conclusion is that if the dependency (or dependencies) between trading days can be identified, stock traders could potentially use that information to trade more effectively and improve profitability."
   ]
  }
 ],
 "metadata": {
  "kernelspec": {
   "display_name": "Python 3",
   "language": "python",
   "name": "python3"
  },
  "language_info": {
   "codemirror_mode": {
    "name": "ipython",
    "version": 3
   },
   "file_extension": ".py",
   "mimetype": "text/x-python",
   "name": "python",
   "nbconvert_exporter": "python",
   "pygments_lexer": "ipython3",
   "version": "3.7.0"
  }
 },
 "nbformat": 4,
 "nbformat_minor": 2
}
