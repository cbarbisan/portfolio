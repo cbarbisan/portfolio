{
 "cells": [
  {
   "cell_type": "markdown",
   "metadata": {},
   "source": [
    "## Assignment 1 - Intro to Python"
   ]
  },
  {
   "cell_type": "markdown",
   "metadata": {},
   "source": [
    "### Part 1 - Loops and Lists"
   ]
  },
  {
   "cell_type": "markdown",
   "metadata": {},
   "source": [
    "<b>1.1.</b> Write a for-loop which will read a list of any kind and print out each item in a list on a separate line. For example, if you start with the list of fruits:\n",
    "fruits = ['apples', 'oranges', 'pears', 'apricots'], \n",
    "the output of the code can be:<br>\n",
    "     <i>a fruit of type: apples</i><br>\n",
    "     <i>a fruit of type: oranges</i><br>\n",
    "     etc.\n",
    "     \n",
    "The code should work with a list of any length and any type of list, i.e. strings, integers, other lists.\n",
    "Test your code with at least 2 different types of lists."
   ]
  },
  {
   "cell_type": "code",
   "execution_count": 5,
   "metadata": {},
   "outputs": [
    {
     "name": "stdout",
     "output_type": "stream",
     "text": [
      "a fruit of type: apples\n",
      "a fruit of type: oranges\n",
      "a fruit of type: pears\n",
      "a fruit of type: apricots\n"
     ]
    }
   ],
   "source": [
    "# 1.1\n",
    "fruits = ['apples', 'oranges', 'pears', 'apricots']\n",
    "for fruit in fruits:\n",
    "    print (\"a fruit of type: %s\" %fruit)"
   ]
  },
  {
   "cell_type": "markdown",
   "metadata": {},
   "source": [
    "<b>1.2.</b> Generate a list of integers from 0 to 5, reverse the list and print it out. Explain how you reversed the list."
   ]
  },
  {
   "cell_type": "code",
   "execution_count": 6,
   "metadata": {
    "collapsed": true
   },
   "outputs": [],
   "source": [
    "# Write your code here\n",
    "# Hint: function append() will help you to generate the list by adding one integer to the list at a time"
   ]
  },
  {
   "cell_type": "code",
   "execution_count": 7,
   "metadata": {},
   "outputs": [
    {
     "name": "stdout",
     "output_type": "stream",
     "text": [
      "adding 0 to the list \n",
      "adding 1 to the list \n",
      "adding 2 to the list \n",
      "adding 3 to the list \n",
      "adding 4 to the list \n",
      "adding 5 to the list \n",
      "Using reversed() function:\n",
      "[5, 4, 3, 2, 1, 0]\n",
      "Printing an iterator\n",
      "5\n",
      "4\n",
      "3\n",
      "2\n",
      "1\n",
      "0\n",
      "Using slice:\n",
      "[5, 4, 3, 2, 1, 0]\n",
      "Using reverse() function:\n",
      "[5, 4, 3, 2, 1, 0]\n"
     ]
    }
   ],
   "source": [
    "#1.2\n",
    "listofintegers = []\n",
    "for i in range(0,6):\n",
    "    print (\"adding %d to the list \" %i)\n",
    "    listofintegers.append(i)\n",
    "\n",
    "# printing out the result, reversed\n",
    "print (\"Using reversed() function:\")\n",
    "print (list(reversed(listofintegers)))\n",
    "# note that reversed() does not return a list, it returns an iterator\n",
    "# which accesses the list in reverse order\n",
    "# that's why we need to add list() in front to get a list\n",
    "\n",
    "# you can print the list like this, but remember you are printing an iterator:\n",
    "print (\"Printing an iterator\")\n",
    "for i in reversed(listofintegers):\n",
    "    print (i)\n",
    "\n",
    "# You can slice the list to reverse it:\n",
    "rev_list = listofintegers[::-1]\n",
    "print (\"Using slice:\")\n",
    "print (rev_list)\n",
    "# Slice does not modify the original list, it returns a new list\n",
    "# Syntax [start:stop:step]\n",
    "    \n",
    "# to reverse the list in place:\n",
    "listofintegers.reverse()\n",
    "print (\"Using reverse() function:\")\n",
    "print (listofintegers)"
   ]
  },
  {
   "cell_type": "markdown",
   "metadata": {},
   "source": [
    "### Part 2 - Dictionaries"
   ]
  },
  {
   "cell_type": "markdown",
   "metadata": {},
   "source": [
    "Create two dictionaries, <i><b>provinces</b></i> and <i><b>capitals</b></i>. \n",
    "\n",
    "Dictionary <i><b>provinces</b></i> will use province names as a key and province abbreviation as a value. \n",
    "Dictionary <i><b>capitals</b></i> will use province abbreviation as a key and a capital name as a value.\n",
    "\n",
    "Print out all combinations of the province names and the corresponding capitals. An example of the output:<br>\n",
    "<i>The capital of Alberta is Edmonton </i><br>\n",
    "<i>The capital of British Columbia is Victoria</i><br>\n",
    "\n",
    "Add 2-3 provinces and corresponding capitals to your dictionaries. Print out the resulting list of province/capital combinations.\n"
   ]
  },
  {
   "cell_type": "code",
   "execution_count": 8,
   "metadata": {},
   "outputs": [
    {
     "name": "stdout",
     "output_type": "stream",
     "text": [
      "The capital of Ontario is Toronto \n",
      "The capital of Quebec is Quebec City \n",
      "The capital of Alberta is Edmonton \n",
      "The capital of British Columbia is Victoria \n"
     ]
    }
   ],
   "source": [
    "# Solution\n",
    "\n",
    "provinces = {\n",
    "    'Ontario': 'ON',\n",
    "    'Quebec': 'QC',\n",
    "    'Alberta': 'AB',\n",
    "    'British Columbia': 'BC'\n",
    "}\n",
    "\n",
    "capitals = {\n",
    "    'ON': 'Toronto',\n",
    "    'QC': 'Quebec City',\n",
    "    'AB': 'Edmonton',\n",
    "    'BC': 'Victoria'\n",
    "}\n",
    "\n",
    "for province, abbrev in provinces.items():\n",
    "    print (\"The capital of %s is %s \" %(province, capitals[abbrev]))\n"
   ]
  },
  {
   "cell_type": "code",
   "execution_count": 9,
   "metadata": {},
   "outputs": [
    {
     "name": "stdout",
     "output_type": "stream",
     "text": [
      "{'ON': 'Toronto', 'QC': 'Quebec City', 'AB': 'Edmonton', 'BC': 'Victoria', 'NS': 'Halifax', 'PE': 'Charlottetown'}\n",
      "{'Ontario': 'ON', 'Quebec': 'QC', 'Alberta': 'AB', 'British Columbia': 'BC', 'Prince Edward Island': 'PE', 'Nova Scotia': 'NS'}\n",
      "The capital of Ontario is Toronto \n",
      "The capital of Quebec is Quebec City \n",
      "The capital of Alberta is Edmonton \n",
      "The capital of British Columbia is Victoria \n",
      "The capital of Prince Edward Island is Charlottetown \n",
      "The capital of Nova Scotia is Halifax \n"
     ]
    }
   ],
   "source": [
    "provinces['Prince Edward Island'] = 'PE'\n",
    "provinces['Nova Scotia'] = 'NS'\n",
    "\n",
    "capitals['NS'] = 'Halifax'\n",
    "capitals['PE'] = 'Charlottetown'\n",
    "print (capitals)\n",
    "print (provinces)\n",
    "\n",
    "for province, abbrev in provinces.items():\n",
    "    print (\"The capital of %s is %s \" %(province, capitals[abbrev]))"
   ]
  },
  {
   "cell_type": "markdown",
   "metadata": {},
   "source": [
    "### Part 3 - Greatest Common Divisor (GCD)"
   ]
  },
  {
   "cell_type": "markdown",
   "metadata": {},
   "source": [
    "The Greatest Common Divisor (GCD) of <i>a</i> and <i>b</i> is the largest number that divides both of them with no remainder. You can read about GCD here: https://en.wikipedia.org/wiki/Greatest_common_divisor\n",
    "\n",
    "Write a function called <i><b>my_gcd()</b></i> that takes parameters <i>a</i> and <i>b</i> and returns their greatest common divisor.\n",
    "\n",
    "Create your own implementation of the alorithm and test your code by comparing the output of your function to  Python's gcd() function from <i>math</i> package.\n",
    "\n",
    "Test the code with the following inputs: (39, 91), (20, 30) and (40,40). Explain the logic of your function.\n",
    "\n",
    "Hint: You might want to review Think Python book, chapters 5 and 6, sections that talk about recursive functions."
   ]
  },
  {
   "cell_type": "code",
   "execution_count": 10,
   "metadata": {},
   "outputs": [
    {
     "name": "stdout",
     "output_type": "stream",
     "text": [
      "13\n"
     ]
    },
    {
     "data": {
      "text/plain": [
       "13"
      ]
     },
     "execution_count": 10,
     "metadata": {},
     "output_type": "execute_result"
    }
   ],
   "source": [
    "# There are a couple of ways to implement this function.\n",
    "# Here is the first one:\n",
    "\n",
    "def my_gcd1(a, b):\n",
    "  while b:\n",
    "    a, b = b, a % b\n",
    "  return a\n",
    "\n",
    "print(my_gcd1(39,91))\n",
    "\n",
    "from math import gcd\n",
    "gcd(39,91)"
   ]
  },
  {
   "cell_type": "code",
   "execution_count": 11,
   "metadata": {},
   "outputs": [
    {
     "name": "stdout",
     "output_type": "stream",
     "text": [
      "13\n"
     ]
    }
   ],
   "source": [
    "# and one more implementation, recursive function:\n",
    "def my_gcd2(a,b):\n",
    "    if(b==0):\n",
    "        return a\n",
    "    else:\n",
    "        return my_gcd2(b,a%b)\n",
    "    \n",
    "print (my_gcd2(39,91))"
   ]
  },
  {
   "cell_type": "code",
   "execution_count": 12,
   "metadata": {},
   "outputs": [
    {
     "data": {
      "text/plain": [
       "10"
      ]
     },
     "execution_count": 12,
     "metadata": {},
     "output_type": "execute_result"
    }
   ],
   "source": [
    "gcd(20,30)"
   ]
  },
  {
   "cell_type": "code",
   "execution_count": 13,
   "metadata": {},
   "outputs": [
    {
     "data": {
      "text/plain": [
       "40"
      ]
     },
     "execution_count": 13,
     "metadata": {},
     "output_type": "execute_result"
    }
   ],
   "source": [
    "gcd(40,40)"
   ]
  },
  {
   "cell_type": "code",
   "execution_count": null,
   "metadata": {
    "collapsed": true
   },
   "outputs": [],
   "source": []
  }
 ],
 "metadata": {
  "kernelspec": {
   "display_name": "Python 3",
   "language": "python",
   "name": "python3"
  },
  "language_info": {
   "codemirror_mode": {
    "name": "ipython",
    "version": 3
   },
   "file_extension": ".py",
   "mimetype": "text/x-python",
   "name": "python",
   "nbconvert_exporter": "python",
   "pygments_lexer": "ipython3",
   "version": "3.6.1"
  }
 },
 "nbformat": 4,
 "nbformat_minor": 2
}
