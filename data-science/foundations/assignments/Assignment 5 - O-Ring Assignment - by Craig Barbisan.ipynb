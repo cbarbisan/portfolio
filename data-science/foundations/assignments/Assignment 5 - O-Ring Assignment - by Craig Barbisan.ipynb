{
 "cells": [
  {
   "cell_type": "markdown",
   "metadata": {},
   "source": [
    "<div class=\"vtbegenerated\"><p><b><span style=\"font-size: 14.0pt; color: #4472c4;\">O-Ring Assignment</span></b></p> \n",
    "<ul> \n",
    " <li>Read <a href=\"https://en.wikipedia.org/wiki/Space_Shuttle_Challenger_disaster\">https://en.wikipedia.org/wiki/Space_Shuttle_Challenger_disaster</a></li> \n",
    " <li>Go to <a href=\"https://archive.ics.uci.edu/ml/datasets/Challenger+USA+Space+Shuttle+O-Ring\">https://archive.ics.uci.edu/ml/datasets/Challenger+USA+Space+Shuttle+O-Ring</a></li> \n",
    " <li>Look at the main page and the Data Folder and Data Set Description page (links near top)</li> \n",
    " <li>The <a href=\"https://archive.ics.uci.edu/ml/machine-learning-databases/space-shuttle/o-ring-erosion-or-blowby.data\">o-ring</a><a href=\"https://archive.ics.uci.edu/ml/machine-learning-databases/space-shuttle/o-ring-erosion-or-blowby.data\">-erosion-or-</a><a href=\"https://archive.ics.uci.edu/ml/machine-learning-databases/space-shuttle/o-ring-erosion-or-blowby.data\">blowby.data</a> file is attached to the assignment as <strong><i>o-ring-erosion-or-blowby.csv</i></strong></li> \n",
    " <li>“Blowby” means “leaking”</li> \n",
    " <li>Load the file into a pandas DataFrame</li> \n",
    " <li>Use <b>statsmodels</b> to do a multiple linear regression</li> \n",
    " <li>How many O-rings does the model predict will show erosion or blowby when the temperature is 31 degrees F?&nbsp; (We don’t know how much pressure the rings will experience at liftoff so do predictions at 0, 50, 100 and 200 PSI to see what difference it makes.)</li> \n",
    "</ul> \n",
    "<br></div>"
   ]
  },
  {
   "cell_type": "code",
   "execution_count": 1,
   "metadata": {},
   "outputs": [
    {
     "name": "stderr",
     "output_type": "stream",
     "text": [
      "C:\\Users\\craig\\Anaconda3\\lib\\site-packages\\statsmodels\\compat\\pandas.py:56: FutureWarning: The pandas.core.datetools module is deprecated and will be removed in a future version. Please use the pandas.tseries module instead.\n",
      "  from pandas.core import datetools\n"
     ]
    }
   ],
   "source": [
    "import pandas as pd\n",
    "import numpy as np\n",
    "\n",
    "# statsmodels.api is using a deprecated object, so it throws a warning.\n",
    "import statsmodels.api as sm"
   ]
  },
  {
   "cell_type": "code",
   "execution_count": 2,
   "metadata": {
    "scrolled": true
   },
   "outputs": [
    {
     "data": {
      "text/html": [
       "<div>\n",
       "<style>\n",
       "    .dataframe thead tr:only-child th {\n",
       "        text-align: right;\n",
       "    }\n",
       "\n",
       "    .dataframe thead th {\n",
       "        text-align: left;\n",
       "    }\n",
       "\n",
       "    .dataframe tbody tr th {\n",
       "        vertical-align: top;\n",
       "    }\n",
       "</style>\n",
       "<table border=\"1\" class=\"dataframe\">\n",
       "  <thead>\n",
       "    <tr style=\"text-align: right;\">\n",
       "      <th></th>\n",
       "      <th>O-Rings</th>\n",
       "      <th>Distressed</th>\n",
       "      <th>Temperature</th>\n",
       "      <th>Pressure</th>\n",
       "    </tr>\n",
       "    <tr>\n",
       "      <th>Flight Order</th>\n",
       "      <th></th>\n",
       "      <th></th>\n",
       "      <th></th>\n",
       "      <th></th>\n",
       "    </tr>\n",
       "  </thead>\n",
       "  <tbody>\n",
       "    <tr>\n",
       "      <th>1</th>\n",
       "      <td>6</td>\n",
       "      <td>0</td>\n",
       "      <td>66</td>\n",
       "      <td>50</td>\n",
       "    </tr>\n",
       "    <tr>\n",
       "      <th>2</th>\n",
       "      <td>6</td>\n",
       "      <td>1</td>\n",
       "      <td>70</td>\n",
       "      <td>50</td>\n",
       "    </tr>\n",
       "    <tr>\n",
       "      <th>3</th>\n",
       "      <td>6</td>\n",
       "      <td>0</td>\n",
       "      <td>69</td>\n",
       "      <td>50</td>\n",
       "    </tr>\n",
       "    <tr>\n",
       "      <th>4</th>\n",
       "      <td>6</td>\n",
       "      <td>0</td>\n",
       "      <td>68</td>\n",
       "      <td>50</td>\n",
       "    </tr>\n",
       "    <tr>\n",
       "      <th>5</th>\n",
       "      <td>6</td>\n",
       "      <td>0</td>\n",
       "      <td>67</td>\n",
       "      <td>50</td>\n",
       "    </tr>\n",
       "    <tr>\n",
       "      <th>6</th>\n",
       "      <td>6</td>\n",
       "      <td>0</td>\n",
       "      <td>72</td>\n",
       "      <td>50</td>\n",
       "    </tr>\n",
       "    <tr>\n",
       "      <th>7</th>\n",
       "      <td>6</td>\n",
       "      <td>0</td>\n",
       "      <td>73</td>\n",
       "      <td>100</td>\n",
       "    </tr>\n",
       "    <tr>\n",
       "      <th>8</th>\n",
       "      <td>6</td>\n",
       "      <td>0</td>\n",
       "      <td>70</td>\n",
       "      <td>100</td>\n",
       "    </tr>\n",
       "    <tr>\n",
       "      <th>9</th>\n",
       "      <td>6</td>\n",
       "      <td>1</td>\n",
       "      <td>57</td>\n",
       "      <td>200</td>\n",
       "    </tr>\n",
       "    <tr>\n",
       "      <th>10</th>\n",
       "      <td>6</td>\n",
       "      <td>1</td>\n",
       "      <td>63</td>\n",
       "      <td>200</td>\n",
       "    </tr>\n",
       "    <tr>\n",
       "      <th>11</th>\n",
       "      <td>6</td>\n",
       "      <td>1</td>\n",
       "      <td>70</td>\n",
       "      <td>200</td>\n",
       "    </tr>\n",
       "    <tr>\n",
       "      <th>12</th>\n",
       "      <td>6</td>\n",
       "      <td>0</td>\n",
       "      <td>78</td>\n",
       "      <td>200</td>\n",
       "    </tr>\n",
       "    <tr>\n",
       "      <th>13</th>\n",
       "      <td>6</td>\n",
       "      <td>0</td>\n",
       "      <td>67</td>\n",
       "      <td>200</td>\n",
       "    </tr>\n",
       "    <tr>\n",
       "      <th>14</th>\n",
       "      <td>6</td>\n",
       "      <td>2</td>\n",
       "      <td>53</td>\n",
       "      <td>200</td>\n",
       "    </tr>\n",
       "    <tr>\n",
       "      <th>15</th>\n",
       "      <td>6</td>\n",
       "      <td>0</td>\n",
       "      <td>67</td>\n",
       "      <td>200</td>\n",
       "    </tr>\n",
       "    <tr>\n",
       "      <th>16</th>\n",
       "      <td>6</td>\n",
       "      <td>0</td>\n",
       "      <td>75</td>\n",
       "      <td>200</td>\n",
       "    </tr>\n",
       "    <tr>\n",
       "      <th>17</th>\n",
       "      <td>6</td>\n",
       "      <td>0</td>\n",
       "      <td>70</td>\n",
       "      <td>200</td>\n",
       "    </tr>\n",
       "    <tr>\n",
       "      <th>18</th>\n",
       "      <td>6</td>\n",
       "      <td>0</td>\n",
       "      <td>81</td>\n",
       "      <td>200</td>\n",
       "    </tr>\n",
       "    <tr>\n",
       "      <th>19</th>\n",
       "      <td>6</td>\n",
       "      <td>0</td>\n",
       "      <td>76</td>\n",
       "      <td>200</td>\n",
       "    </tr>\n",
       "    <tr>\n",
       "      <th>20</th>\n",
       "      <td>6</td>\n",
       "      <td>0</td>\n",
       "      <td>79</td>\n",
       "      <td>200</td>\n",
       "    </tr>\n",
       "    <tr>\n",
       "      <th>21</th>\n",
       "      <td>6</td>\n",
       "      <td>2</td>\n",
       "      <td>75</td>\n",
       "      <td>200</td>\n",
       "    </tr>\n",
       "    <tr>\n",
       "      <th>22</th>\n",
       "      <td>6</td>\n",
       "      <td>0</td>\n",
       "      <td>76</td>\n",
       "      <td>200</td>\n",
       "    </tr>\n",
       "    <tr>\n",
       "      <th>23</th>\n",
       "      <td>6</td>\n",
       "      <td>1</td>\n",
       "      <td>58</td>\n",
       "      <td>200</td>\n",
       "    </tr>\n",
       "  </tbody>\n",
       "</table>\n",
       "</div>"
      ],
      "text/plain": [
       "              O-Rings  Distressed  Temperature  Pressure\n",
       "Flight Order                                            \n",
       "1                   6           0           66        50\n",
       "2                   6           1           70        50\n",
       "3                   6           0           69        50\n",
       "4                   6           0           68        50\n",
       "5                   6           0           67        50\n",
       "6                   6           0           72        50\n",
       "7                   6           0           73       100\n",
       "8                   6           0           70       100\n",
       "9                   6           1           57       200\n",
       "10                  6           1           63       200\n",
       "11                  6           1           70       200\n",
       "12                  6           0           78       200\n",
       "13                  6           0           67       200\n",
       "14                  6           2           53       200\n",
       "15                  6           0           67       200\n",
       "16                  6           0           75       200\n",
       "17                  6           0           70       200\n",
       "18                  6           0           81       200\n",
       "19                  6           0           76       200\n",
       "20                  6           0           79       200\n",
       "21                  6           2           75       200\n",
       "22                  6           0           76       200\n",
       "23                  6           1           58       200"
      ]
     },
     "execution_count": 2,
     "metadata": {},
     "output_type": "execute_result"
    }
   ],
   "source": [
    "df = pd.read_csv('o-ring-erosion-or-blowby.csv', names=['O-Rings','Distressed','Temperature','Pressure','Flight Order'], index_col='Flight Order')\n",
    "df"
   ]
  },
  {
   "cell_type": "markdown",
   "metadata": {
    "scrolled": true
   },
   "source": [
    "How many O-rings does the model predict will show erosion or blowby (i.e. will be under distress) when the temperature is 31 degrees F?\n",
    "\n",
    "Our predictors are Launch Temperature and Leak-check Pressure\n",
    "\n",
    "Our response is Distressed\n",
    "\n",
    "Since we have more than 1 predictor, we need to do a multiple regression."
   ]
  },
  {
   "cell_type": "code",
   "execution_count": 3,
   "metadata": {},
   "outputs": [
    {
     "data": {
      "text/html": [
       "<table class=\"simpletable\">\n",
       "<caption>OLS Regression Results</caption>\n",
       "<tr>\n",
       "  <th>Dep. Variable:</th>       <td>Distressed</td>    <th>  R-squared:         </th> <td>   0.354</td>\n",
       "</tr>\n",
       "<tr>\n",
       "  <th>Model:</th>                   <td>OLS</td>       <th>  Adj. R-squared:    </th> <td>   0.290</td>\n",
       "</tr>\n",
       "<tr>\n",
       "  <th>Method:</th>             <td>Least Squares</td>  <th>  F-statistic:       </th> <td>   5.490</td>\n",
       "</tr>\n",
       "<tr>\n",
       "  <th>Date:</th>             <td>Mon, 27 Nov 2017</td> <th>  Prob (F-statistic):</th>  <td>0.0126</td> \n",
       "</tr>\n",
       "<tr>\n",
       "  <th>Time:</th>                 <td>23:44:27</td>     <th>  Log-Likelihood:    </th> <td> -17.408</td>\n",
       "</tr>\n",
       "<tr>\n",
       "  <th>No. Observations:</th>      <td>    23</td>      <th>  AIC:               </th> <td>   40.82</td>\n",
       "</tr>\n",
       "<tr>\n",
       "  <th>Df Residuals:</th>          <td>    20</td>      <th>  BIC:               </th> <td>   44.22</td>\n",
       "</tr>\n",
       "<tr>\n",
       "  <th>Df Model:</th>              <td>     2</td>      <th>                     </th>     <td> </td>   \n",
       "</tr>\n",
       "<tr>\n",
       "  <th>Covariance Type:</th>      <td>nonrobust</td>    <th>                     </th>     <td> </td>   \n",
       "</tr>\n",
       "</table>\n",
       "<table class=\"simpletable\">\n",
       "<tr>\n",
       "       <td></td>          <th>coef</th>     <th>std err</th>      <th>t</th>      <th>P>|t|</th>  <th>[0.025</th>    <th>0.975]</th>  \n",
       "</tr>\n",
       "<tr>\n",
       "  <th>const</th>       <td>    3.3298</td> <td>    1.188</td> <td>    2.803</td> <td> 0.011</td> <td>    0.851</td> <td>    5.808</td>\n",
       "</tr>\n",
       "<tr>\n",
       "  <th>Temperature</th> <td>   -0.0487</td> <td>    0.017</td> <td>   -2.910</td> <td> 0.009</td> <td>   -0.084</td> <td>   -0.014</td>\n",
       "</tr>\n",
       "<tr>\n",
       "  <th>Pressure</th>    <td>    0.0029</td> <td>    0.002</td> <td>    1.699</td> <td> 0.105</td> <td>   -0.001</td> <td>    0.007</td>\n",
       "</tr>\n",
       "</table>\n",
       "<table class=\"simpletable\">\n",
       "<tr>\n",
       "  <th>Omnibus:</th>       <td>19.324</td> <th>  Durbin-Watson:     </th> <td>   2.390</td>\n",
       "</tr>\n",
       "<tr>\n",
       "  <th>Prob(Omnibus):</th> <td> 0.000</td> <th>  Jarque-Bera (JB):  </th> <td>  23.471</td>\n",
       "</tr>\n",
       "<tr>\n",
       "  <th>Skew:</th>          <td> 1.782</td> <th>  Prob(JB):          </th> <td>8.00e-06</td>\n",
       "</tr>\n",
       "<tr>\n",
       "  <th>Kurtosis:</th>      <td> 6.433</td> <th>  Cond. No.          </th> <td>1.84e+03</td>\n",
       "</tr>\n",
       "</table>"
      ],
      "text/plain": [
       "<class 'statsmodels.iolib.summary.Summary'>\n",
       "\"\"\"\n",
       "                            OLS Regression Results                            \n",
       "==============================================================================\n",
       "Dep. Variable:             Distressed   R-squared:                       0.354\n",
       "Model:                            OLS   Adj. R-squared:                  0.290\n",
       "Method:                 Least Squares   F-statistic:                     5.490\n",
       "Date:                Mon, 27 Nov 2017   Prob (F-statistic):             0.0126\n",
       "Time:                        23:44:27   Log-Likelihood:                -17.408\n",
       "No. Observations:                  23   AIC:                             40.82\n",
       "Df Residuals:                      20   BIC:                             44.22\n",
       "Df Model:                           2                                         \n",
       "Covariance Type:            nonrobust                                         \n",
       "===============================================================================\n",
       "                  coef    std err          t      P>|t|      [0.025      0.975]\n",
       "-------------------------------------------------------------------------------\n",
       "const           3.3298      1.188      2.803      0.011       0.851       5.808\n",
       "Temperature    -0.0487      0.017     -2.910      0.009      -0.084      -0.014\n",
       "Pressure        0.0029      0.002      1.699      0.105      -0.001       0.007\n",
       "==============================================================================\n",
       "Omnibus:                       19.324   Durbin-Watson:                   2.390\n",
       "Prob(Omnibus):                  0.000   Jarque-Bera (JB):               23.471\n",
       "Skew:                           1.782   Prob(JB):                     8.00e-06\n",
       "Kurtosis:                       6.433   Cond. No.                     1.84e+03\n",
       "==============================================================================\n",
       "\n",
       "Warnings:\n",
       "[1] Standard Errors assume that the covariance matrix of the errors is correctly specified.\n",
       "[2] The condition number is large, 1.84e+03. This might indicate that there are\n",
       "strong multicollinearity or other numerical problems.\n",
       "\"\"\""
      ]
     },
     "execution_count": 3,
     "metadata": {},
     "output_type": "execute_result"
    }
   ],
   "source": [
    "# Setup the multiple regression per above.\n",
    "Y = df.Distressed\n",
    "X = df[['Temperature','Pressure']]\n",
    "X = sm.add_constant(X)\n",
    "model = sm.OLS( Y, X )\n",
    "fitted = model.fit()\n",
    "fitted.summary()"
   ]
  },
  {
   "cell_type": "code",
   "execution_count": 4,
   "metadata": {},
   "outputs": [
    {
     "data": {
      "text/plain": [
       "const          3.329831\n",
       "Temperature   -0.048671\n",
       "Pressure       0.002939\n",
       "dtype: float64"
      ]
     },
     "execution_count": 4,
     "metadata": {},
     "output_type": "execute_result"
    }
   ],
   "source": [
    "# Output the co-efficients calculated by the model\n",
    "fitted.params"
   ]
  },
  {
   "cell_type": "markdown",
   "metadata": {
    "collapsed": true
   },
   "source": [
    "According to the ordinary least squares model, our equation is:<br/>\n",
    "O-rings under thermal distress = 3.3298 - 0.0487(Launch Temperature) + 0.0029(Pressure)\n",
    "\n",
    "The purpose of this analysis is to determine the number of O-rings under thermal distress, assuming a launch temperature of 31 degrees Fahrenheit and at different levels of leak-check pressure. Given that we know the launch temperature, we can simplify the equation as follows:\n",
    "\n",
    "Distressed O-rings at 31 degrees F = 1.8201 + 0.0029(Pressure)\n",
    "\n",
    "We can now solve the equation using different values for Pressure:"
   ]
  },
  {
   "cell_type": "code",
   "execution_count": 5,
   "metadata": {},
   "outputs": [
    {
     "data": {
      "text/plain": [
       "array([ 1.8201,  1.9651,  2.1101,  2.4001])"
      ]
     },
     "execution_count": 5,
     "metadata": {},
     "output_type": "execute_result"
    }
   ],
   "source": [
    "b = np.array([0.0, 50.0, 100.0, 200.0])\n",
    "d = 1.8201 + 0.0029*b\n",
    "d"
   ]
  },
  {
   "cell_type": "markdown",
   "metadata": {},
   "source": [
    "It's clear from these results that launching at 31 degrees is very risky. Even without considering the leak-check pressure, the cool launch temperature puts almost 2 o-rings under distress. The addition of pressure (50+ PSI) almost guarantees that 2 o-rings will fail."
   ]
  },
  {
   "cell_type": "code",
   "execution_count": 6,
   "metadata": {},
   "outputs": [
    {
     "data": {
      "text/plain": [
       "array([ 1.82102695,  1.96799318,  2.11495942,  2.40889188])"
      ]
     },
     "execution_count": 6,
     "metadata": {},
     "output_type": "execute_result"
    }
   ],
   "source": [
    "# Double check my model using the predict() function\n",
    "\n",
    "# Setup an array with 3 columns:\n",
    "# 1. A constant\n",
    "# 2. A temperature value. The temperature we are solving for is 31 deg F\n",
    "# 3. A pressure value. We tested 0, 50, 100 and 200\n",
    "new_x = [(1, 31, 0),(1, 31,50),(1, 31,100),(1, 31,200)]\n",
    "y_predict = fitted.predict(new_x)\n",
    "y_predict"
   ]
  },
  {
   "cell_type": "markdown",
   "metadata": {},
   "source": [
    "The predict() function returned values that are very similar to those I calculated by plugging numbers into the equation suggested by the model. This gives me a level of confidence in its correctness."
   ]
  },
  {
   "cell_type": "code",
   "execution_count": null,
   "metadata": {
    "collapsed": true
   },
   "outputs": [],
   "source": []
  }
 ],
 "metadata": {
  "kernelspec": {
   "display_name": "Python 3",
   "language": "python",
   "name": "python3"
  },
  "language_info": {
   "codemirror_mode": {
    "name": "ipython",
    "version": 3
   },
   "file_extension": ".py",
   "mimetype": "text/x-python",
   "name": "python",
   "nbconvert_exporter": "python",
   "pygments_lexer": "ipython3",
   "version": "3.7.0"
  }
 },
 "nbformat": 4,
 "nbformat_minor": 2
}
