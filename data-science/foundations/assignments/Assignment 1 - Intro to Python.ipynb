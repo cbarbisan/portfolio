{
 "cells": [
  {
   "cell_type": "markdown",
   "metadata": {},
   "source": [
    "## Assignment 1 - Intro to Python"
   ]
  },
  {
   "cell_type": "markdown",
   "metadata": {},
   "source": [
    "### Part 1 - Loops and Lists"
   ]
  },
  {
   "cell_type": "markdown",
   "metadata": {},
   "source": [
    "<b>1.1.</b> Write a for-loop which will read a list of any kind and print out each item in a list on a separate line. For example, if you start with the list of fruits:\n",
    "fruits = ['apples', 'oranges', 'pears', 'apricots'], \n",
    "the output of the code can be:<br>\n",
    "     <i>a fruit of type: apples</i><br>\n",
    "     <i>a fruit of type: oranges</i><br>\n",
    "     etc.\n",
    "     \n",
    "The code should work with a list of any length and any type of list, i.e. strings, integers, other lists.\n",
    "Test your code with at least 2 different types of lists."
   ]
  },
  {
   "cell_type": "code",
   "execution_count": 1,
   "metadata": {
    "collapsed": true
   },
   "outputs": [],
   "source": [
    "# Type your code here\n"
   ]
  },
  {
   "cell_type": "markdown",
   "metadata": {},
   "source": [
    "<b>1.2.</b> Start with an empty list and generate a list of integers from 0 to 5, reverse the list and print it out. Explain how you reversed the list."
   ]
  },
  {
   "cell_type": "code",
   "execution_count": 1,
   "metadata": {
    "collapsed": true
   },
   "outputs": [],
   "source": [
    "# Write your code here\n",
    "# Hint: there are multiple ways to create a list of integers. If you are to create it by starting with an empty list\n",
    "# and adding one integer to a list at a time, you can use function append()."
   ]
  },
  {
   "cell_type": "markdown",
   "metadata": {},
   "source": [
    "### Part 2 - Dictionaries"
   ]
  },
  {
   "cell_type": "markdown",
   "metadata": {},
   "source": [
    "Create two dictionaries, <i><b>provinces</b></i> and <i><b>capitals</b></i>. \n",
    "\n",
    "Dictionary <i><b>provinces</b></i> will use province names as a key and province abbreviation as a value. \n",
    "Dictionary <i><b>capitals</b></i> will use province abbreviation as a key and a capital name as a value.\n",
    "\n",
    "Print out all combinations of the province names and the corresponding capitals. An example of the output:<br>\n",
    "<i>The capital of Alberta is Edmonton </i><br>\n",
    "<i>The capital of British Columbia is Victoria</i><br>\n",
    "\n",
    "Add 2-3 provinces and corresponding capitals to your dictionaries. Print out the resulting list of province/capital combinations.\n"
   ]
  },
  {
   "cell_type": "code",
   "execution_count": 3,
   "metadata": {
    "collapsed": true
   },
   "outputs": [],
   "source": [
    "# Write your code here\n"
   ]
  },
  {
   "cell_type": "code",
   "execution_count": 5,
   "metadata": {
    "collapsed": true
   },
   "outputs": [],
   "source": [
    "# Adding provinces and capitals to the dictionaries\n"
   ]
  },
  {
   "cell_type": "markdown",
   "metadata": {},
   "source": [
    "### Part 3 - Greatest Common Divisor (GCD)"
   ]
  },
  {
   "cell_type": "markdown",
   "metadata": {},
   "source": [
    "The Greatest Common Divisor (GCD) of <i>a</i> and <i>b</i> is the largest number that divides both of them with no remainder. You can read about GCD here: https://en.wikipedia.org/wiki/Greatest_common_divisor\n",
    "\n",
    "Write a function called <i><b>my_gcd()</b></i> that takes parameters <i>a</i> and <i>b</i> and returns their greatest common divisor.\n",
    "\n",
    "Create your own implementation of the alorithm and test your code by comparing the output of your function to  Python's gcd() function from <i>math</i> package.\n",
    "\n",
    "Test the code with the following inputs: (39, 91), (20, 30) and (40,40). Explain the logic of your function.\n",
    "\n",
    "Hint: You might want to review Think Python book, chapters 5 and 6, sections that talk about recursive functions."
   ]
  },
  {
   "cell_type": "code",
   "execution_count": 6,
   "metadata": {
    "collapsed": true
   },
   "outputs": [],
   "source": [
    "# Write your code here\n"
   ]
  },
  {
   "cell_type": "code",
   "execution_count": 8,
   "metadata": {},
   "outputs": [
    {
     "data": {
      "text/plain": [
       "13"
      ]
     },
     "execution_count": 8,
     "metadata": {},
     "output_type": "execute_result"
    }
   ],
   "source": [
    "# Test your code by comparing to the Python build-in function:\n",
    "from math import gcd\n",
    "gcd(39,91)"
   ]
  },
  {
   "cell_type": "code",
   "execution_count": 9,
   "metadata": {},
   "outputs": [
    {
     "data": {
      "text/plain": [
       "10"
      ]
     },
     "execution_count": 9,
     "metadata": {},
     "output_type": "execute_result"
    }
   ],
   "source": [
    "gcd(20,30)"
   ]
  },
  {
   "cell_type": "code",
   "execution_count": 10,
   "metadata": {},
   "outputs": [
    {
     "data": {
      "text/plain": [
       "40"
      ]
     },
     "execution_count": 10,
     "metadata": {},
     "output_type": "execute_result"
    }
   ],
   "source": [
    "gcd(40,40)"
   ]
  },
  {
   "cell_type": "code",
   "execution_count": null,
   "metadata": {
    "collapsed": true
   },
   "outputs": [],
   "source": []
  }
 ],
 "metadata": {
  "kernelspec": {
   "display_name": "Python 2",
   "language": "python",
   "name": "python2"
  },
  "language_info": {
   "codemirror_mode": {
    "name": "ipython",
    "version": 2
   },
   "file_extension": ".py",
   "mimetype": "text/x-python",
   "name": "python",
   "nbconvert_exporter": "python",
   "pygments_lexer": "ipython2",
   "version": "2.7.13"
  }
 },
 "nbformat": 4,
 "nbformat_minor": 2
}
